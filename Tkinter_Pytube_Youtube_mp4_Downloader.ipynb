{
 "cells": [
  {
   "cell_type": "markdown",
   "id": "3027f81d",
   "metadata": {},
   "source": [
    "# GUI Mp4 downloader"
   ]
  },
  {
   "cell_type": "code",
   "execution_count": null,
   "id": "bf5b7d67",
   "metadata": {},
   "outputs": [],
   "source": [
    "import tkinter as tk\n",
    "from pytube import YouTube\n",
    "\n",
    "def convert():\n",
    "    link = userInput.get()\n",
    "    youtubeObject = YouTube(link)\n",
    "    youtubeObject = youtubeObject.streams.get_highest_resolution()\n",
    "    try:\n",
    "        youtubeObject.download()\n",
    "    except:\n",
    "        message.Label.Config(Text = \"Some Error Occured, Please try again!\")\n",
    "    message.config(text = \"Task Completed\")\n",
    "\n",
    "root = tk.Tk()\n",
    "root.title(\"Youtube MP4 Downloader\")\n",
    "\n",
    "userInput = tk.StringVar()\n",
    "\n",
    "LinkLabel = tk.Label(root, text = \"Youtube Link input: \").grid(row = 0, column = 0)\n",
    "LinkInput = tk.Entry(root, textvariable = userInput, width =45).grid(row = 1, column =0)\n",
    "message = tk.Label(root, text = \"\")\n",
    "message.grid(row = 3, column = 0)  # you need to place this label in the grid as well\n",
    "ConvertButton = tk.Button(root, text = \"Convert to MP4\", command=convert).grid(row = 2, column = 0)\n",
    "\n",
    "root.mainloop()\n",
    "quit()\n",
    "print(\"Done!\")\n"
   ]
  },
  {
   "cell_type": "code",
   "execution_count": null,
   "id": "a8290114",
   "metadata": {},
   "outputs": [],
   "source": []
  }
 ],
 "metadata": {
  "kernelspec": {
   "display_name": "Python 3 (ipykernel)",
   "language": "python",
   "name": "python3"
  },
  "language_info": {
   "codemirror_mode": {
    "name": "ipython",
    "version": 3
   },
   "file_extension": ".py",
   "mimetype": "text/x-python",
   "name": "python",
   "nbconvert_exporter": "python",
   "pygments_lexer": "ipython3",
   "version": "3.11.3"
  }
 },
 "nbformat": 4,
 "nbformat_minor": 5
}
